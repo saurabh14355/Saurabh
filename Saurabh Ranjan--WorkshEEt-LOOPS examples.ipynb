{
 "cells": [
  {
   "cell_type": "markdown",
   "metadata": {
    "collapsed": true
   },
   "source": [
    "# List Comprehensions\n",
    "\n",
    "In addition to sequence operations and list methods, Python includes a more advanced operation called a list comprehension.\n",
    "\n",
    "List comprehensions allow us to build out lists using a different notation. You can think of it as essentially a one line <code>for</code> loop built inside of brackets. For a simple example:\n",
    "#### Example 1"
   ]
  },
  {
   "cell_type": "code",
   "execution_count": 67,
   "metadata": {},
   "outputs": [
    {
     "data": {
      "text/plain": [
       "['S', 'a', 'u', 'r', 'a', 'b', 'h']"
      ]
     },
     "execution_count": 67,
     "metadata": {},
     "output_type": "execute_result"
    }
   ],
   "source": [
    "word='Saurabh'\n",
    "lst=[v for v in word]\n",
    "lst"
   ]
  },
  {
   "cell_type": "markdown",
   "metadata": {},
   "source": [
    "\n",
    "#### Example 2"
   ]
  },
  {
   "cell_type": "code",
   "execution_count": 11,
   "metadata": {},
   "outputs": [
    {
     "data": {
      "text/plain": [
       "[0, 1, 4, 9, 16, 25, 36, 49, 64, 81, 100]"
      ]
     },
     "execution_count": 11,
     "metadata": {},
     "output_type": "execute_result"
    }
   ],
   "source": [
    "# Square numbers in range and turn into list\n",
    "a=0\n",
    "b=[i**2 for i in range(11)]\n",
    "b"
   ]
  },
  {
   "cell_type": "markdown",
   "metadata": {},
   "source": [
    "#### Example 3\n",
    "Let's see how to add in <code>if</code> statements:"
   ]
  },
  {
   "cell_type": "code",
   "execution_count": 27,
   "metadata": {},
   "outputs": [
    {
     "data": {
      "text/plain": [
       "[0, 2, 4, 6, 8, 10]"
      ]
     },
     "execution_count": 27,
     "metadata": {},
     "output_type": "execute_result"
    }
   ],
   "source": [
    "# Check for even numbers in a range\n",
    "lst=[i for i in range(11) if i%2==0]\n",
    "lst"
   ]
  },
  {
   "cell_type": "markdown",
   "metadata": {},
   "source": [
    "#### Example 4\n",
    "Can also do more complicated arithmetic:"
   ]
  },
  {
   "cell_type": "code",
   "execution_count": 45,
   "metadata": {},
   "outputs": [
    {
     "name": "stdout",
     "output_type": "stream",
     "text": [
      "[32.0, 50.0, 68.18, 94.1, -40.0]\n"
     ]
    }
   ],
   "source": [
    "# Convert Celsius to Fahrenheit\n",
    "celsius = [0,10,20.1,34.5,-40]\n",
    "Farenheight=[((9/5)*x + 32) for x in celsius]\n",
    "print(Farenheight)"
   ]
  },
  {
   "cell_type": "markdown",
   "metadata": {},
   "source": [
    "#### Example 5\n",
    "We can also perform nested list comprehensions, for example:"
   ]
  },
  {
   "cell_type": "code",
   "execution_count": 44,
   "metadata": {},
   "outputs": [
    {
     "data": {
      "text/plain": [
       "[0, 1, 16, 81, 256, 625, 1296, 2401, 4096, 6561, 10000]"
      ]
     },
     "execution_count": 44,
     "metadata": {},
     "output_type": "execute_result"
    }
   ],
   "source": [
    "lst=[i**4 for i in [x for x in range(11)]]\n",
    "lst"
   ]
  },
  {
   "cell_type": "markdown",
   "metadata": {},
   "source": [
    "# Exercise:\n"
   ]
  },
  {
   "cell_type": "markdown",
   "metadata": {},
   "source": [
    "####  Write a Python program to find those numbers which are divisible by 7 and multiple of 5, between 1500 and 2700 (both included)"
   ]
  },
  {
   "cell_type": "code",
   "execution_count": 47,
   "metadata": {},
   "outputs": [
    {
     "data": {
      "text/plain": [
       "[1505,\n",
       " 1540,\n",
       " 1575,\n",
       " 1610,\n",
       " 1645,\n",
       " 1680,\n",
       " 1715,\n",
       " 1750,\n",
       " 1785,\n",
       " 1820,\n",
       " 1855,\n",
       " 1890,\n",
       " 1925,\n",
       " 1960,\n",
       " 1995,\n",
       " 2030,\n",
       " 2065,\n",
       " 2100,\n",
       " 2135,\n",
       " 2170,\n",
       " 2205,\n",
       " 2240,\n",
       " 2275,\n",
       " 2310,\n",
       " 2345,\n",
       " 2380,\n",
       " 2415,\n",
       " 2450,\n",
       " 2485,\n",
       " 2520,\n",
       " 2555,\n",
       " 2590,\n",
       " 2625,\n",
       " 2660,\n",
       " 2695]"
      ]
     },
     "execution_count": 47,
     "metadata": {},
     "output_type": "execute_result"
    }
   ],
   "source": [
    "b=[a for a in range(1500,2700) if a%7==0 and a%5==0]\n",
    "b"
   ]
  },
  {
   "cell_type": "markdown",
   "metadata": {},
   "source": [
    "#### Write a Python program to convert temperatures to and from celsius, fahrenheit.\n",
    "[ Formula : c/5 = f-32/9 [ where c = temperature in celsius and f = temperature in fahrenheit ] \n",
    "\n",
    "Expected Output : \n",
    "\n",
    "60°C is 140 in Fahrenheit\n",
    "\n",
    "45°F is 7 in Celsius "
   ]
  },
  {
   "cell_type": "code",
   "execution_count": 5,
   "metadata": {},
   "outputs": [
    {
     "name": "stdout",
     "output_type": "stream",
     "text": [
      "Input the  temperature you like to convert? (e.g., 45F, 102C etc.) : 23c\n",
      "The fahrenheit is 44.77777777777778\n"
     ]
    }
   ],
   "source": [
    " temp = input(\"Input the  temperature you like to convert? (e.g., 45F, 102C etc.) : \")\n",
    "degree = int(temp[:-1])\n",
    "conv = temp[-1]\n",
    "if conv=='F' or conv=='f':  \n",
    "    conv_celsius=(((degree-32)/9)*5)\n",
    "    print(\"the celsius is\",conv_celsius)\n",
    "elif conv=='c' or conv=='C':\n",
    "    conv_fahrenheit=(((5/9)*degree)+32)\n",
    "    print(\"The fahrenheit is\",conv_fahrenheit)\n",
    "else:\n",
    "    print(\"Please give temperature in F or C\")  "
   ]
  },
  {
   "cell_type": "markdown",
   "metadata": {},
   "source": [
    "#### Write a Python program to check whether an alphabet is a vowel or consonant\n"
   ]
  },
  {
   "cell_type": "code",
   "execution_count": 87,
   "metadata": {},
   "outputs": [
    {
     "name": "stdout",
     "output_type": "stream",
     "text": [
      "Enter the String: saurabh ranjan\n",
      "Vowels = a u a a a \n",
      "Consonants = s r b h r n j n \n"
     ]
    }
   ],
   "source": [
    "str1 = input('Enter the String: ')\n",
    "vowels=''\n",
    "consonants=''\n",
    "for v in str1:\n",
    "    if (v>='A' and v<='Z') or (v>='a' and v<='z'):\n",
    "        if v=='A' or v=='E' or v=='I' or v=='O' or v=='U' or v=='a' or v=='e' or v=='i' or v=='o' or v=='u':\n",
    "            vowels+=(v+' ')\n",
    "        else:\n",
    "            consonants+=(v+' ')\n",
    "        \n",
    "print('Vowels =',vowels)\n",
    "print('Consonants =',consonants)"
   ]
  },
  {
   "cell_type": "markdown",
   "metadata": {},
   "source": [
    "####   Write a Python program to get the sum of two given integers. However, if the sum is between 15 to 20 it will return 20."
   ]
  },
  {
   "cell_type": "code",
   "execution_count": 88,
   "metadata": {},
   "outputs": [
    {
     "name": "stdout",
     "output_type": "stream",
     "text": [
      "Enter First Number: 23\n",
      "Enter Second Number: 3\n",
      "Sum = 26\n"
     ]
    }
   ],
   "source": [
    "n1=int(input(\"Enter First Number: \"))\n",
    "n2=int(input(\"Enter Second Number: \"))\n",
    "sum = n1+n2\n",
    "if(sum>=15 and sum<=20):\n",
    "    print('Sum = 20')\n",
    "else:\n",
    "    print('Sum =',sum)"
   ]
  },
  {
   "cell_type": "markdown",
   "metadata": {},
   "source": [
    "####  Write a Python program that prints the total number of days in a month if  month name is given\n"
   ]
  },
  {
   "cell_type": "code",
   "execution_count": 89,
   "metadata": {},
   "outputs": [
    {
     "name": "stdout",
     "output_type": "stream",
     "text": [
      "No. of Days in Dec are 31\n"
     ]
    }
   ],
   "source": [
    "month ='Dec'\n",
    "day =31\n",
    "if month=='Feb':\n",
    "    day = 28\n",
    "if month=='Apr' or month=='Jun' or month=='Sep' or month=='Nov':\n",
    "    day = 30\n",
    "print('No. of Days in',month,'are',day)"
   ]
  },
  {
   "cell_type": "markdown",
   "metadata": {},
   "source": [
    "#### Write a Python program to display astrological sign for given date of birth. \n",
    "\n",
    "Expected Output:\n",
    "\n",
    "Input birthday: 15                                                      \n",
    "\n",
    "Input month of birth (e.g. march, july etc): may                        \n",
    "\n",
    "Your Astrological sign is : Taurus"
   ]
  },
  {
   "cell_type": "code",
   "execution_count": 90,
   "metadata": {},
   "outputs": [
    {
     "name": "stdout",
     "output_type": "stream",
     "text": [
      "The astrological sign for 15 May is Taurus\n"
     ]
    }
   ],
   "source": [
    "day=15\n",
    "month='May'\n",
    "sign=\"\"\n",
    "if month==\"January\":\n",
    "    if day<20:\n",
    "        sign=\"Capricorn\"\n",
    "    else:\n",
    "        sign=\"Aquarius\"\n",
    "elif month == \"February\":\n",
    "    if day<19:\n",
    "        sign = \"Aquarius\"\n",
    "    else:\n",
    "        sign=\"Pisces\"\n",
    "elif month==\"March\":\n",
    "    if day<21:\n",
    "        sign=\"Pisces\"\n",
    "    else:\n",
    "        sign=\"Aries\"\n",
    "elif month==\"April\":\n",
    "    if day<20:\n",
    "        sign = \"Aries\"\n",
    "    else:\n",
    "        sign = \"Taurus\"\n",
    "elif month==\"May\":\n",
    "    if day<21:\n",
    "        sign = \"Taurus\"\n",
    "    else:\n",
    "        sign = \"Gemini\"\n",
    "elif month==\"June\":\n",
    "    if day<21:\n",
    "        sign = \"Gemini\"\n",
    "          \n",
    "    else:\n",
    "        sign = \"Cancer\"\n",
    "elif month==\"July\":\n",
    "    if day<23:\n",
    "        sign = \"Cancer\"\n",
    "    else:\n",
    "        sign = \"Leo\"\n",
    "elif month==\"August\":\n",
    "    if day<23:\n",
    "        sign = \"Leo\"\n",
    "    else:\n",
    "        sign = \"Virgo\"\n",
    "elif month==\"September\":\n",
    "    if day<23:\n",
    "        sign = \"Virgo\"\n",
    "    else:\n",
    "        sign = \"Libra\"\n",
    "elif month==\"October\":\n",
    "    if day<23:\n",
    "        sign = \"Libra\"\n",
    "    else:\n",
    "        sign = \"Scorpio\"\n",
    "elif month==\"November\":\n",
    "    if day<22:\n",
    "        sign = \"scorpio\"\n",
    "    else:\n",
    "        sign = \"Sagittarius\"\n",
    "elif month==\"December\":\n",
    "    if day<22:\n",
    "        sign = \"Sagittarius\"\n",
    "    else:\n",
    "        sign =\"Capricorn\"\n",
    "print(\"The astrological sign for\",day,month,\"is\",sign )"
   ]
  },
  {
   "attachments": {
    "image.png": {
     "image/png": "[encoded data removed]"
    }
   },
   "cell_type": "markdown",
   "metadata": {},
   "source": [
    "####  Write a Python program to print alphabet pattern 'Z'\n",
    "Expected Output:\n",
    "![image.png](attachment:image.png)"
   ]
  },
  {
   "cell_type": "code",
   "execution_count": 19,
   "metadata": {
    "scrolled": true
   },
   "outputs": [
    {
     "name": "stdout",
     "output_type": "stream",
     "text": [
      "* * * * * * * \n",
      "          *   \n",
      "        *     \n",
      "      *       \n",
      "    *         \n",
      "  *           \n",
      "* * * * * * * \n"
     ]
    }
   ],
   "source": [
    "for r in range (7):\n",
    "    for c in range (7):\n",
    "        if (r==0 or r==6) or (r+c==6):\n",
    "            print(\"*\",end=\" \")\n",
    "        else:\n",
    "            print(\" \",end=\" \")\n",
    "    print()"
   ]
  },
  {
   "attachments": {
    "image.png": {
     "image/png": "[encoded data removed]"
    }
   },
   "cell_type": "markdown",
   "metadata": {},
   "source": [
    "#### Write a Python program to construct the following pattern, using a nested for loop.\n",
    "\n",
    "![image.png](attachment:image.png)\n"
   ]
  },
  {
   "cell_type": "code",
   "execution_count": 86,
   "metadata": {},
   "outputs": [
    {
     "name": "stdout",
     "output_type": "stream",
     "text": [
      "* \n",
      "* * \n",
      "* * * \n",
      "* * * * \n",
      "* * * * * \n",
      "* * * * \n",
      "* * * \n",
      "* * \n",
      "* \n"
     ]
    }
   ],
   "source": [
    "  n=9\n",
    "star=1\n",
    "for r in range(n):\n",
    "    for c in range(star):\n",
    "        print('*',end=' ')\n",
    "    if r<int(n/2):\n",
    "        star+=1\n",
    "    else:\n",
    "        star-=1\n",
    "    print()"
   ]
  },
  {
   "cell_type": "code",
   "execution_count": 2,
   "metadata": {},
   "outputs": [
    {
     "name": "stdout",
     "output_type": "stream",
     "text": [
      "\n",
      "* \n",
      "* * \n",
      "* * * \n",
      "* * * * \n",
      "* * * * * \n",
      "* * * * \n",
      "* * * \n",
      "* * \n",
      "* \n"
     ]
    }
   ],
   "source": []
  },
  {
   "attachments": {
    "image.png": {
     "image/png": "[encoded data removed]"
    }
   },
   "cell_type": "markdown",
   "metadata": {},
   "source": [
    "####  Write a Python program to print alphabet pattern 'U'.\n",
    "Expected Output\n",
    "![image.png](attachment:image.png)"
   ]
  },
  {
   "cell_type": "code",
   "execution_count": 31,
   "metadata": {},
   "outputs": [
    {
     "name": "stdout",
     "output_type": "stream",
     "text": [
      "*       * \n",
      "*       * \n",
      "*       * \n",
      "*       * \n",
      "*       * \n",
      "*       * \n",
      "  * * *   \n"
     ]
    }
   ],
   "source": [
    "for r in range (7):\n",
    "    for c in range (5):\n",
    "        if((c==0 or c==4)and r<6) or (r==6 and c>0 and c<4):\n",
    "            print(\"*\",end=\" \")\n",
    "        else:\n",
    "            print(\" \",end=\" \")\n",
    "    print()        \n"
   ]
  },
  {
   "attachments": {
    "image.png": {
     "image/png": "[encoded data removed]"
    }
   },
   "cell_type": "markdown",
   "metadata": {},
   "source": [
    "####  Write a Python program to print alphabet pattern 'T'\n",
    "Expected Output:\n",
    "![image.png](attachment:image.png)"
   ]
  },
  {
   "cell_type": "code",
   "execution_count": 34,
   "metadata": {},
   "outputs": [
    {
     "name": "stdout",
     "output_type": "stream",
     "text": [
      "* * * * * \n",
      "    *     \n",
      "    *     \n",
      "    *     \n",
      "    *     \n",
      "    *     \n",
      "    *     \n"
     ]
    }
   ],
   "source": [
    "row=7\n",
    "col=5\n",
    "for r in range(row):\n",
    "    for c in range(col):\n",
    "        if r==0 or (r>0 and c==int(col/2)):\n",
    "            print(\"*\",end=\" \")\n",
    "        else:\n",
    "            print(\" \",end=\" \")\n",
    "    print( )"
   ]
  },
  {
   "cell_type": "markdown",
   "metadata": {},
   "source": [
    "####  Write a Python program that accepts a word from the user and reverse it."
   ]
  },
  {
   "cell_type": "code",
   "execution_count": 48,
   "metadata": {},
   "outputs": [
    {
     "name": "stdout",
     "output_type": "stream",
     "text": [
      "Enter the name : --> Mickey\n",
      "yekciM\n"
     ]
    }
   ],
   "source": [
    "Name=input(\"Enter the name : --> \")\n",
    "rev=\"\"\n",
    "for i in range (len(Name)):\n",
    "    rev+=Name[len(Name)-i-1]    #Name[::-1]\n",
    "print(rev)"
   ]
  },
  {
   "cell_type": "markdown",
   "metadata": {},
   "source": [
    "#### Write a Python program to count the number of even and odd numbers from a series of numbers\n",
    "\n",
    "Sample numbers : numbers = (1, 2, 3, 4, 5, 6, 7, 8, 9) \n",
    "\n",
    "Expected Output : \n",
    "\n",
    "Number of even numbers : 5\n",
    "\n",
    "Number of odd numbers : 4"
   ]
  },
  {
   "cell_type": "code",
   "execution_count": 63,
   "metadata": {},
   "outputs": [
    {
     "name": "stdout",
     "output_type": "stream",
     "text": [
      "Number of even numbers:  3\n",
      "Number of odd numbers:  6\n"
     ]
    }
   ],
   "source": [
    "numbers = [1, 2, 3, 4, 5, 6, 7, 8, 9]\n",
    "count_even=0\n",
    "count_odd=0\n",
    "for i in numbers:\n",
    "    if i%2==0:\n",
    "        count_even+=1\n",
    "    else:\n",
    "        count_odd+=1\n",
    "print(\"Number of even numbers: \",count_even)\n",
    "print(\"Number of odd numbers: \",count_odd)"
   ]
  },
  {
   "cell_type": "markdown",
   "metadata": {},
   "source": [
    "#### Write a Python program that prints each item and its corresponding type from the following list.\n",
    "\n",
    "Sample List : datalist = [1452, 11.23, 1+2j, True, 'TestYantra', (0, -1), [5, 12], {\"class\":'V', \"section\":'A'}]"
   ]
  },
  {
   "cell_type": "code",
   "execution_count": 66,
   "metadata": {},
   "outputs": [
    {
     "name": "stdout",
     "output_type": "stream",
     "text": [
      "data:  1452 type:  <class 'int'>\n",
      "data:  11.23 type:  <class 'float'>\n",
      "data:  (1+2j) type:  <class 'complex'>\n",
      "data:  True type:  <class 'bool'>\n",
      "data:  TestYantra type:  <class 'str'>\n",
      "data:  (0, -1) type:  <class 'tuple'>\n",
      "data:  [5, 12] type:  <class 'list'>\n",
      "data:  {'class': 'V', 'section': 'A'} type:  <class 'dict'>\n"
     ]
    }
   ],
   "source": [
    "datalist = [1452, 11.23, 1+2j, True, 'TestYantra', (0, -1), [5, 12], {\"class\":'V', \"section\":'A'}]\n",
    "for i in datalist:\n",
    "    print(\"data: \",i,\"type: \",type(i))"
   ]
  },
  {
   "cell_type": "markdown",
   "metadata": {},
   "source": [
    "#### Write a Python program that prints all the numbers from 0 to 6 except 3 and 6.\n",
    " \n",
    "Expected Output : 0 1 2 4 5 "
   ]
  },
  {
   "cell_type": "code",
   "execution_count": 77,
   "metadata": {},
   "outputs": [
    {
     "name": "stdout",
     "output_type": "stream",
     "text": [
      "0 1 2 4 5 "
     ]
    }
   ],
   "source": [
    "n=[0,1,2,3,4,5,6]\n",
    "for i in n:\n",
    "    if i!=3 and i!=6:\n",
    "        print(i,end=\" \")"
   ]
  },
  {
   "cell_type": "markdown",
   "metadata": {},
   "source": [
    "#### Write a Python program to get the Fibonacci series between 0 to 50\n",
    "\n",
    "Note : The Fibonacci Sequence is the series of numbers :\n",
    "\n",
    "0, 1, 1, 2, 3, 5, 8, 13, 21, .... \n",
    "\n",
    "Every next number is found by adding up the two numbers before it.\n",
    "\n",
    "Expected Output : 1 1 2 3 5 8 13 21 34"
   ]
  },
  {
   "cell_type": "code",
   "execution_count": 57,
   "metadata": {},
   "outputs": [
    {
     "name": "stdout",
     "output_type": "stream",
     "text": [
      "0 1 1 2 3 5 8 13 21 34 "
     ]
    }
   ],
   "source": [
    "a=0\n",
    "b=1\n",
    "print(a,end=\" \")\n",
    "print(b,end=\" \")\n",
    "for i in range(8):\n",
    "    sum=(a+b)\n",
    "    a=b\n",
    "    b=sum\n",
    "    print(b,end=\" \")"
   ]
  },
  {
   "cell_type": "markdown",
   "metadata": {},
   "source": [
    "#### Write a Python program to create the multiplication table (from 1 to 10) of a number.\n",
    "\n",
    "Expected Output:\n",
    "\n",
    "Input a number: 6                                                       \n",
    "\n",
    "6 x 1 = 6                                                               \n",
    "\n",
    "6 x 2 = 12                                                              \n",
    "\n",
    "6 x 3 = 18                                                              \n",
    "\n",
    "6 x 4 = 24                                                              \n",
    "\n",
    "6 x 5 = 30                                                              \n",
    "\n",
    "6 x 6 = 36                                                              \n",
    "\n",
    "6 x 7 = 42                                                              \n",
    "\n",
    "6 x 8 = 48                                                              \n",
    "\n",
    "6 x 9 = 54                                                              \n",
    "\n",
    "6 x 10 = 60 "
   ]
  },
  {
   "cell_type": "code",
   "execution_count": 84,
   "metadata": {},
   "outputs": [
    {
     "name": "stdout",
     "output_type": "stream",
     "text": [
      "6 X 1 = 6\n",
      "6 X 2 = 12\n",
      "6 X 3 = 18\n",
      "6 X 4 = 24\n",
      "6 X 5 = 30\n",
      "6 X 6 = 36\n",
      "6 X 7 = 42\n",
      "6 X 8 = 48\n",
      "6 X 9 = 54\n",
      "6 X 10 = 60\n"
     ]
    }
   ],
   "source": [
    "n=6\n",
    "for i in range(1,11):\n",
    "    print(\"6 X\",i,\"=\",n)\n",
    "    n+=6"
   ]
  },
  {
   "cell_type": "markdown",
   "metadata": {},
   "source": [
    "#### Write a Python program to calculate the sum and average of n integer numbers"
   ]
  },
  {
   "cell_type": "code",
   "execution_count": 85,
   "metadata": {},
   "outputs": [
    {
     "name": "stdout",
     "output_type": "stream",
     "text": [
      "Sum = 431 Average = 53.875\n"
     ]
    }
   ],
   "source": [
    "arr=[23,44,65,97,42,21,92,47]\n",
    "sum=0;\n",
    "for i in arr:\n",
    "    sum+=i\n",
    "avg=sum/len(arr)\n",
    "print('Sum =',sum,'Average =',avg)"
   ]
  },
  {
   "cell_type": "code",
   "execution_count": 91,
   "metadata": {},
   "outputs": [
    {
     "data": {
      "text/plain": [
       "'C:\\\\Users\\\\Saurabh Ranjan\\\\Assignments python'"
      ]
     },
     "execution_count": 91,
     "metadata": {},
     "output_type": "execute_result"
    }
   ],
   "source": [
    "%pwd"
   ]
  },
  {
   "cell_type": "code",
   "execution_count": null,
   "metadata": {},
   "outputs": [],
   "source": []
  }
 ],
 "metadata": {
  "kernelspec": {
   "display_name": "Python 3",
   "language": "python",
   "name": "python3"
  },
  "language_info": {
   "codemirror_mode": {
    "name": "ipython",
    "version": 3
   },
   "file_extension": ".py",
   "mimetype": "text/x-python",
   "name": "python",
   "nbconvert_exporter": "python",
   "pygments_lexer": "ipython3",
   "version": "3.7.3"
  }
 },
 "nbformat": 4,
 "nbformat_minor": 2
}
