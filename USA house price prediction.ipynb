{
 "cells": [
  {
   "cell_type": "markdown",
   "metadata": {},
   "source": [
    "Linear Regression example"
   ]
  },
  {
   "cell_type": "code",
   "execution_count": 42,
   "metadata": {},
   "outputs": [],
   "source": [
    "import pandas as pd\n",
    "import numpy as np\n",
    "import matplotlib.pyplot as plt\n",
    "import seaborn as sns\n",
    "from scipy import stats\n",
    "%matplotlib inline"
   ]
  },
  {
   "cell_type": "code",
   "execution_count": 43,
   "metadata": {},
   "outputs": [],
   "source": [
    "import warnings\n",
    "warnings.filterwarnings('ignore')"
   ]
  },
  {
   "cell_type": "code",
   "execution_count": 44,
   "metadata": {},
   "outputs": [
    {
     "data": {
      "text/html": [
       "<div>\n",
       "<style scoped>\n",
       "    .dataframe tbody tr th:only-of-type {\n",
       "        vertical-align: middle;\n",
       "    }\n",
       "\n",
       "    .dataframe tbody tr th {\n",
       "        vertical-align: top;\n",
       "    }\n",
       "\n",
       "    .dataframe thead th {\n",
       "        text-align: right;\n",
       "    }\n",
       "</style>\n",
       "<table border=\"1\" class=\"dataframe\">\n",
       "  <thead>\n",
       "    <tr style=\"text-align: right;\">\n",
       "      <th></th>\n",
       "      <th>Avg. Area Income</th>\n",
       "      <th>Avg. Area House Age</th>\n",
       "      <th>Avg. Area Number of Rooms</th>\n",
       "      <th>Avg. Area Number of Bedrooms</th>\n",
       "      <th>Area Population</th>\n",
       "      <th>Price</th>\n",
       "      <th>Address</th>\n",
       "    </tr>\n",
       "  </thead>\n",
       "  <tbody>\n",
       "    <tr>\n",
       "      <th>0</th>\n",
       "      <td>79545.458574</td>\n",
       "      <td>5.682861</td>\n",
       "      <td>7.009188</td>\n",
       "      <td>4.09</td>\n",
       "      <td>23086.800503</td>\n",
       "      <td>1.059034e+06</td>\n",
       "      <td>208 Michael Ferry Apt. 674\\nLaurabury, NE 3701...</td>\n",
       "    </tr>\n",
       "    <tr>\n",
       "      <th>1</th>\n",
       "      <td>79248.642455</td>\n",
       "      <td>6.002900</td>\n",
       "      <td>6.730821</td>\n",
       "      <td>3.09</td>\n",
       "      <td>40173.072174</td>\n",
       "      <td>1.505891e+06</td>\n",
       "      <td>188 Johnson Views Suite 079\\nLake Kathleen, CA...</td>\n",
       "    </tr>\n",
       "    <tr>\n",
       "      <th>2</th>\n",
       "      <td>61287.067179</td>\n",
       "      <td>5.865890</td>\n",
       "      <td>8.512727</td>\n",
       "      <td>5.13</td>\n",
       "      <td>36882.159400</td>\n",
       "      <td>1.058988e+06</td>\n",
       "      <td>9127 Elizabeth Stravenue\\nDanieltown, WI 06482...</td>\n",
       "    </tr>\n",
       "    <tr>\n",
       "      <th>3</th>\n",
       "      <td>63345.240046</td>\n",
       "      <td>7.188236</td>\n",
       "      <td>5.586729</td>\n",
       "      <td>3.26</td>\n",
       "      <td>34310.242831</td>\n",
       "      <td>1.260617e+06</td>\n",
       "      <td>USS Barnett\\nFPO AP 44820</td>\n",
       "    </tr>\n",
       "    <tr>\n",
       "      <th>4</th>\n",
       "      <td>59982.197226</td>\n",
       "      <td>5.040555</td>\n",
       "      <td>7.839388</td>\n",
       "      <td>4.23</td>\n",
       "      <td>26354.109472</td>\n",
       "      <td>6.309435e+05</td>\n",
       "      <td>USNS Raymond\\nFPO AE 09386</td>\n",
       "    </tr>\n",
       "    <tr>\n",
       "      <th>5</th>\n",
       "      <td>80175.754159</td>\n",
       "      <td>4.988408</td>\n",
       "      <td>6.104512</td>\n",
       "      <td>4.04</td>\n",
       "      <td>26748.428425</td>\n",
       "      <td>1.068138e+06</td>\n",
       "      <td>06039 Jennifer Islands Apt. 443\\nTracyport, KS...</td>\n",
       "    </tr>\n",
       "    <tr>\n",
       "      <th>6</th>\n",
       "      <td>64698.463428</td>\n",
       "      <td>6.025336</td>\n",
       "      <td>8.147760</td>\n",
       "      <td>3.41</td>\n",
       "      <td>60828.249085</td>\n",
       "      <td>1.502056e+06</td>\n",
       "      <td>4759 Daniel Shoals Suite 442\\nNguyenburgh, CO ...</td>\n",
       "    </tr>\n",
       "    <tr>\n",
       "      <th>7</th>\n",
       "      <td>78394.339278</td>\n",
       "      <td>6.989780</td>\n",
       "      <td>6.620478</td>\n",
       "      <td>2.42</td>\n",
       "      <td>36516.358972</td>\n",
       "      <td>1.573937e+06</td>\n",
       "      <td>972 Joyce Viaduct\\nLake William, TN 17778-6483</td>\n",
       "    </tr>\n",
       "    <tr>\n",
       "      <th>8</th>\n",
       "      <td>59927.660813</td>\n",
       "      <td>5.362126</td>\n",
       "      <td>6.393121</td>\n",
       "      <td>2.30</td>\n",
       "      <td>29387.396003</td>\n",
       "      <td>7.988695e+05</td>\n",
       "      <td>USS Gilbert\\nFPO AA 20957</td>\n",
       "    </tr>\n",
       "    <tr>\n",
       "      <th>9</th>\n",
       "      <td>81885.927184</td>\n",
       "      <td>4.423672</td>\n",
       "      <td>8.167688</td>\n",
       "      <td>6.10</td>\n",
       "      <td>40149.965749</td>\n",
       "      <td>1.545155e+06</td>\n",
       "      <td>Unit 9446 Box 0958\\nDPO AE 97025</td>\n",
       "    </tr>\n",
       "    <tr>\n",
       "      <th>10</th>\n",
       "      <td>80527.472083</td>\n",
       "      <td>8.093513</td>\n",
       "      <td>5.042747</td>\n",
       "      <td>4.10</td>\n",
       "      <td>47224.359840</td>\n",
       "      <td>1.707046e+06</td>\n",
       "      <td>6368 John Motorway Suite 700\\nJanetbury, NM 26854</td>\n",
       "    </tr>\n",
       "    <tr>\n",
       "      <th>11</th>\n",
       "      <td>50593.695497</td>\n",
       "      <td>4.496513</td>\n",
       "      <td>7.467627</td>\n",
       "      <td>4.49</td>\n",
       "      <td>34343.991886</td>\n",
       "      <td>6.637324e+05</td>\n",
       "      <td>911 Castillo Park Apt. 717\\nDavisborough, PW 7...</td>\n",
       "    </tr>\n",
       "    <tr>\n",
       "      <th>12</th>\n",
       "      <td>39033.809237</td>\n",
       "      <td>7.671755</td>\n",
       "      <td>7.250029</td>\n",
       "      <td>3.10</td>\n",
       "      <td>39220.361467</td>\n",
       "      <td>1.042814e+06</td>\n",
       "      <td>209 Natasha Stream Suite 961\\nHuffmanland, NE ...</td>\n",
       "    </tr>\n",
       "    <tr>\n",
       "      <th>13</th>\n",
       "      <td>73163.663441</td>\n",
       "      <td>6.919535</td>\n",
       "      <td>5.993188</td>\n",
       "      <td>2.27</td>\n",
       "      <td>32326.123139</td>\n",
       "      <td>1.291332e+06</td>\n",
       "      <td>829 Welch Track Apt. 992\\nNorth John, AR 26532...</td>\n",
       "    </tr>\n",
       "    <tr>\n",
       "      <th>14</th>\n",
       "      <td>69391.380184</td>\n",
       "      <td>5.344776</td>\n",
       "      <td>8.406418</td>\n",
       "      <td>4.37</td>\n",
       "      <td>35521.294033</td>\n",
       "      <td>1.402818e+06</td>\n",
       "      <td>PSC 5330, Box 4420\\nAPO AP 08302</td>\n",
       "    </tr>\n",
       "    <tr>\n",
       "      <th>15</th>\n",
       "      <td>73091.866746</td>\n",
       "      <td>5.443156</td>\n",
       "      <td>8.517513</td>\n",
       "      <td>4.01</td>\n",
       "      <td>23929.524053</td>\n",
       "      <td>1.306675e+06</td>\n",
       "      <td>2278 Shannon View\\nNorth Carriemouth, NM 84617</td>\n",
       "    </tr>\n",
       "    <tr>\n",
       "      <th>16</th>\n",
       "      <td>79706.963058</td>\n",
       "      <td>5.067890</td>\n",
       "      <td>8.219771</td>\n",
       "      <td>3.12</td>\n",
       "      <td>39717.813576</td>\n",
       "      <td>1.556787e+06</td>\n",
       "      <td>064 Hayley Unions\\nNicholsborough, HI 44161-1887</td>\n",
       "    </tr>\n",
       "    <tr>\n",
       "      <th>17</th>\n",
       "      <td>61929.077018</td>\n",
       "      <td>4.788550</td>\n",
       "      <td>5.097010</td>\n",
       "      <td>4.30</td>\n",
       "      <td>24595.901498</td>\n",
       "      <td>5.284852e+05</td>\n",
       "      <td>5498 Rachel Locks\\nNew Gregoryshire, PW 54755</td>\n",
       "    </tr>\n",
       "    <tr>\n",
       "      <th>18</th>\n",
       "      <td>63508.194299</td>\n",
       "      <td>5.947165</td>\n",
       "      <td>7.187774</td>\n",
       "      <td>5.12</td>\n",
       "      <td>35719.653052</td>\n",
       "      <td>1.019426e+06</td>\n",
       "      <td>Unit 7424 Box 2786\\nDPO AE 71255</td>\n",
       "    </tr>\n",
       "    <tr>\n",
       "      <th>19</th>\n",
       "      <td>62085.276403</td>\n",
       "      <td>5.739411</td>\n",
       "      <td>7.091808</td>\n",
       "      <td>5.49</td>\n",
       "      <td>44922.106702</td>\n",
       "      <td>1.030591e+06</td>\n",
       "      <td>19696 Benjamin Cape\\nStephentown, ME 36952-4733</td>\n",
       "    </tr>\n",
       "    <tr>\n",
       "      <th>20</th>\n",
       "      <td>86294.999089</td>\n",
       "      <td>6.627457</td>\n",
       "      <td>8.011898</td>\n",
       "      <td>4.07</td>\n",
       "      <td>47560.775336</td>\n",
       "      <td>2.146925e+06</td>\n",
       "      <td>030 Larry Park Suite 665\\nThomashaven, HI 8794...</td>\n",
       "    </tr>\n",
       "    <tr>\n",
       "      <th>21</th>\n",
       "      <td>60835.089979</td>\n",
       "      <td>5.551222</td>\n",
       "      <td>6.517175</td>\n",
       "      <td>2.10</td>\n",
       "      <td>45574.741662</td>\n",
       "      <td>9.292476e+05</td>\n",
       "      <td>USNS Brown\\nFPO AP 85833</td>\n",
       "    </tr>\n",
       "    <tr>\n",
       "      <th>22</th>\n",
       "      <td>64490.650267</td>\n",
       "      <td>4.210323</td>\n",
       "      <td>5.478088</td>\n",
       "      <td>4.31</td>\n",
       "      <td>40358.960106</td>\n",
       "      <td>7.188872e+05</td>\n",
       "      <td>95198 Ortiz Key\\nPort Sara, TN 24541-2855</td>\n",
       "    </tr>\n",
       "    <tr>\n",
       "      <th>23</th>\n",
       "      <td>60697.351539</td>\n",
       "      <td>6.170484</td>\n",
       "      <td>7.150537</td>\n",
       "      <td>6.34</td>\n",
       "      <td>28140.967088</td>\n",
       "      <td>7.439998e+05</td>\n",
       "      <td>9003 Jay Plains Suite 838\\nLake Elizabeth, IN ...</td>\n",
       "    </tr>\n",
       "    <tr>\n",
       "      <th>24</th>\n",
       "      <td>59748.855487</td>\n",
       "      <td>5.339340</td>\n",
       "      <td>7.748682</td>\n",
       "      <td>4.23</td>\n",
       "      <td>27809.986544</td>\n",
       "      <td>8.957371e+05</td>\n",
       "      <td>24282 Paul Valley\\nWest Perry, MI 03169-5806</td>\n",
       "    </tr>\n",
       "    <tr>\n",
       "      <th>25</th>\n",
       "      <td>56974.476539</td>\n",
       "      <td>8.287562</td>\n",
       "      <td>7.312880</td>\n",
       "      <td>4.33</td>\n",
       "      <td>40694.869513</td>\n",
       "      <td>1.453975e+06</td>\n",
       "      <td>61938 Brady Falls\\nLewisfort, DE 61227</td>\n",
       "    </tr>\n",
       "    <tr>\n",
       "      <th>26</th>\n",
       "      <td>82173.626076</td>\n",
       "      <td>4.018525</td>\n",
       "      <td>6.992699</td>\n",
       "      <td>2.03</td>\n",
       "      <td>38853.918066</td>\n",
       "      <td>1.125693e+06</td>\n",
       "      <td>3599 Ramirez Springs\\nJacksonhaven, AZ 72798</td>\n",
       "    </tr>\n",
       "    <tr>\n",
       "      <th>27</th>\n",
       "      <td>64626.880978</td>\n",
       "      <td>5.443360</td>\n",
       "      <td>6.988754</td>\n",
       "      <td>4.00</td>\n",
       "      <td>27784.742280</td>\n",
       "      <td>9.754295e+05</td>\n",
       "      <td>073 Christopher Falls Suite 882\\nWest Cynthia,...</td>\n",
       "    </tr>\n",
       "    <tr>\n",
       "      <th>28</th>\n",
       "      <td>90499.057451</td>\n",
       "      <td>6.384359</td>\n",
       "      <td>4.242191</td>\n",
       "      <td>3.04</td>\n",
       "      <td>33970.164990</td>\n",
       "      <td>1.240764e+06</td>\n",
       "      <td>6531 Chase Prairie Apt. 245\\nSusanshire, MN 22365</td>\n",
       "    </tr>\n",
       "    <tr>\n",
       "      <th>29</th>\n",
       "      <td>59323.792100</td>\n",
       "      <td>6.977828</td>\n",
       "      <td>8.273697</td>\n",
       "      <td>4.07</td>\n",
       "      <td>37520.657732</td>\n",
       "      <td>1.577018e+06</td>\n",
       "      <td>17124 Johnson Squares\\nLake Robertfurt, AL 618...</td>\n",
       "    </tr>\n",
       "    <tr>\n",
       "      <th>...</th>\n",
       "      <td>...</td>\n",
       "      <td>...</td>\n",
       "      <td>...</td>\n",
       "      <td>...</td>\n",
       "      <td>...</td>\n",
       "      <td>...</td>\n",
       "      <td>...</td>\n",
       "    </tr>\n",
       "    <tr>\n",
       "      <th>4970</th>\n",
       "      <td>55980.204807</td>\n",
       "      <td>7.014510</td>\n",
       "      <td>5.458789</td>\n",
       "      <td>2.11</td>\n",
       "      <td>43968.687046</td>\n",
       "      <td>1.120943e+06</td>\n",
       "      <td>2558 King Trail\\nEast Catherinebury, MP 23625-...</td>\n",
       "    </tr>\n",
       "    <tr>\n",
       "      <th>4971</th>\n",
       "      <td>73491.134427</td>\n",
       "      <td>5.784430</td>\n",
       "      <td>4.425959</td>\n",
       "      <td>3.37</td>\n",
       "      <td>30800.541060</td>\n",
       "      <td>1.111307e+06</td>\n",
       "      <td>6043 Stevens Stream\\nWest Kimberlymouth, ME 49723</td>\n",
       "    </tr>\n",
       "    <tr>\n",
       "      <th>4972</th>\n",
       "      <td>83695.272383</td>\n",
       "      <td>7.643507</td>\n",
       "      <td>7.127219</td>\n",
       "      <td>5.05</td>\n",
       "      <td>33113.759057</td>\n",
       "      <td>1.736402e+06</td>\n",
       "      <td>33465 Hernandez Forest Apt. 692\\nPort Ashleyfo...</td>\n",
       "    </tr>\n",
       "    <tr>\n",
       "      <th>4973</th>\n",
       "      <td>78743.759274</td>\n",
       "      <td>6.583685</td>\n",
       "      <td>6.595683</td>\n",
       "      <td>4.07</td>\n",
       "      <td>24381.144540</td>\n",
       "      <td>1.340770e+06</td>\n",
       "      <td>805 David Knoll Apt. 216\\nMccarthyview, GU 74316</td>\n",
       "    </tr>\n",
       "    <tr>\n",
       "      <th>4974</th>\n",
       "      <td>70720.296463</td>\n",
       "      <td>6.411801</td>\n",
       "      <td>5.048128</td>\n",
       "      <td>3.01</td>\n",
       "      <td>19114.019253</td>\n",
       "      <td>8.013486e+05</td>\n",
       "      <td>14742 Lopez Ridge Apt. 889\\nJessicatown, CA 28254</td>\n",
       "    </tr>\n",
       "    <tr>\n",
       "      <th>4975</th>\n",
       "      <td>54037.580879</td>\n",
       "      <td>8.471765</td>\n",
       "      <td>6.966072</td>\n",
       "      <td>3.27</td>\n",
       "      <td>28696.170856</td>\n",
       "      <td>1.324382e+06</td>\n",
       "      <td>6278 Jenkins Harbors Apt. 807\\nNew Yvettehaven...</td>\n",
       "    </tr>\n",
       "    <tr>\n",
       "      <th>4976</th>\n",
       "      <td>75046.313791</td>\n",
       "      <td>5.351169</td>\n",
       "      <td>7.797825</td>\n",
       "      <td>5.23</td>\n",
       "      <td>34107.888619</td>\n",
       "      <td>1.340344e+06</td>\n",
       "      <td>55823 Stuart Fields\\nNunezstad, NM 03601</td>\n",
       "    </tr>\n",
       "    <tr>\n",
       "      <th>4977</th>\n",
       "      <td>75980.438843</td>\n",
       "      <td>6.583105</td>\n",
       "      <td>5.914892</td>\n",
       "      <td>3.23</td>\n",
       "      <td>40394.593489</td>\n",
       "      <td>1.518478e+06</td>\n",
       "      <td>1831 Escobar Plain Suite 171\\nMartinezberg, OH...</td>\n",
       "    </tr>\n",
       "    <tr>\n",
       "      <th>4978</th>\n",
       "      <td>80393.339500</td>\n",
       "      <td>8.899713</td>\n",
       "      <td>5.652974</td>\n",
       "      <td>4.04</td>\n",
       "      <td>39547.932489</td>\n",
       "      <td>1.910585e+06</td>\n",
       "      <td>02084 Rivera Lock\\nHallville, NJ 32367-9579</td>\n",
       "    </tr>\n",
       "    <tr>\n",
       "      <th>4979</th>\n",
       "      <td>82224.695006</td>\n",
       "      <td>5.434087</td>\n",
       "      <td>8.375708</td>\n",
       "      <td>3.12</td>\n",
       "      <td>57166.867510</td>\n",
       "      <td>1.823498e+06</td>\n",
       "      <td>4679 Turner Tunnel\\nRosariobury, CT 68552-4766</td>\n",
       "    </tr>\n",
       "    <tr>\n",
       "      <th>4980</th>\n",
       "      <td>75664.024482</td>\n",
       "      <td>5.789203</td>\n",
       "      <td>6.415312</td>\n",
       "      <td>2.02</td>\n",
       "      <td>54724.251275</td>\n",
       "      <td>1.406865e+06</td>\n",
       "      <td>0476 Jessica Shoals\\nMelissamouth, DE 39609-2777</td>\n",
       "    </tr>\n",
       "    <tr>\n",
       "      <th>4981</th>\n",
       "      <td>71663.871293</td>\n",
       "      <td>6.150745</td>\n",
       "      <td>7.311907</td>\n",
       "      <td>6.33</td>\n",
       "      <td>24109.778060</td>\n",
       "      <td>1.203850e+06</td>\n",
       "      <td>1316 Tony Inlet Suite 235\\nWest Jimmy, SC 72946</td>\n",
       "    </tr>\n",
       "    <tr>\n",
       "      <th>4982</th>\n",
       "      <td>58800.908770</td>\n",
       "      <td>5.976507</td>\n",
       "      <td>7.304051</td>\n",
       "      <td>6.43</td>\n",
       "      <td>37426.709745</td>\n",
       "      <td>1.020096e+06</td>\n",
       "      <td>109 Lee Wall Apt. 315\\nLunamouth, AZ 05121-3634</td>\n",
       "    </tr>\n",
       "    <tr>\n",
       "      <th>4983</th>\n",
       "      <td>69655.183954</td>\n",
       "      <td>7.721100</td>\n",
       "      <td>6.077795</td>\n",
       "      <td>4.29</td>\n",
       "      <td>32902.355584</td>\n",
       "      <td>1.194357e+06</td>\n",
       "      <td>39174 Jessica Mission Apt. 539\\nWest Cindyboro...</td>\n",
       "    </tr>\n",
       "    <tr>\n",
       "      <th>4984</th>\n",
       "      <td>62623.359828</td>\n",
       "      <td>5.071624</td>\n",
       "      <td>6.771015</td>\n",
       "      <td>3.33</td>\n",
       "      <td>50985.971202</td>\n",
       "      <td>1.211900e+06</td>\n",
       "      <td>9894 Greg Ridge\\nNorth Tiffanyhaven, ID 66602-...</td>\n",
       "    </tr>\n",
       "    <tr>\n",
       "      <th>4985</th>\n",
       "      <td>75117.042949</td>\n",
       "      <td>6.036275</td>\n",
       "      <td>6.538111</td>\n",
       "      <td>2.22</td>\n",
       "      <td>43976.031060</td>\n",
       "      <td>1.378938e+06</td>\n",
       "      <td>PSC 7442, Box 6234\\nAPO AP 13017</td>\n",
       "    </tr>\n",
       "    <tr>\n",
       "      <th>4986</th>\n",
       "      <td>71060.406015</td>\n",
       "      <td>5.718839</td>\n",
       "      <td>7.222730</td>\n",
       "      <td>4.34</td>\n",
       "      <td>34814.585591</td>\n",
       "      <td>1.260241e+06</td>\n",
       "      <td>5611 Matthew Avenue\\nLake Kevin, FM 72963-8891</td>\n",
       "    </tr>\n",
       "    <tr>\n",
       "      <th>4987</th>\n",
       "      <td>65729.222330</td>\n",
       "      <td>6.237787</td>\n",
       "      <td>6.860475</td>\n",
       "      <td>3.12</td>\n",
       "      <td>25573.854289</td>\n",
       "      <td>1.197073e+06</td>\n",
       "      <td>641 Lisa Parkways Suite 552\\nWest Amandaside, ...</td>\n",
       "    </tr>\n",
       "    <tr>\n",
       "      <th>4988</th>\n",
       "      <td>67637.840665</td>\n",
       "      <td>7.056673</td>\n",
       "      <td>5.774409</td>\n",
       "      <td>3.05</td>\n",
       "      <td>43846.531340</td>\n",
       "      <td>1.275143e+06</td>\n",
       "      <td>6066 Sanders Court Apt. 914\\nSouth Alexis, FM ...</td>\n",
       "    </tr>\n",
       "    <tr>\n",
       "      <th>4989</th>\n",
       "      <td>47965.406896</td>\n",
       "      <td>5.694638</td>\n",
       "      <td>7.363327</td>\n",
       "      <td>5.40</td>\n",
       "      <td>46071.947337</td>\n",
       "      <td>8.852050e+05</td>\n",
       "      <td>19960 Scott Street\\nPort Brenda, MO 02292-8651</td>\n",
       "    </tr>\n",
       "    <tr>\n",
       "      <th>4990</th>\n",
       "      <td>52723.876555</td>\n",
       "      <td>5.452237</td>\n",
       "      <td>8.124571</td>\n",
       "      <td>6.39</td>\n",
       "      <td>14802.088438</td>\n",
       "      <td>4.795006e+05</td>\n",
       "      <td>86727 Kelly Plaza\\nLake Veronica, IL 04474</td>\n",
       "    </tr>\n",
       "    <tr>\n",
       "      <th>4991</th>\n",
       "      <td>74102.191890</td>\n",
       "      <td>5.657841</td>\n",
       "      <td>7.683993</td>\n",
       "      <td>3.13</td>\n",
       "      <td>24041.270592</td>\n",
       "      <td>1.263721e+06</td>\n",
       "      <td>2871 John Lodge\\nAmychester, GU 61734-5597</td>\n",
       "    </tr>\n",
       "    <tr>\n",
       "      <th>4992</th>\n",
       "      <td>87499.125743</td>\n",
       "      <td>6.403473</td>\n",
       "      <td>4.836091</td>\n",
       "      <td>4.02</td>\n",
       "      <td>40815.199679</td>\n",
       "      <td>1.568701e+06</td>\n",
       "      <td>Unit 2096 Box 9559\\nDPO AE 80983-8797</td>\n",
       "    </tr>\n",
       "    <tr>\n",
       "      <th>4993</th>\n",
       "      <td>69639.140896</td>\n",
       "      <td>5.007510</td>\n",
       "      <td>7.778375</td>\n",
       "      <td>6.05</td>\n",
       "      <td>54056.128430</td>\n",
       "      <td>1.381831e+06</td>\n",
       "      <td>5259 David Causeway Apt. 975\\nSouth Alexstad, ...</td>\n",
       "    </tr>\n",
       "    <tr>\n",
       "      <th>4994</th>\n",
       "      <td>73060.846226</td>\n",
       "      <td>5.293682</td>\n",
       "      <td>6.312253</td>\n",
       "      <td>4.16</td>\n",
       "      <td>22695.695480</td>\n",
       "      <td>9.053549e+05</td>\n",
       "      <td>5224 Lamb Passage\\nNancystad, GA 16579</td>\n",
       "    </tr>\n",
       "    <tr>\n",
       "      <th>4995</th>\n",
       "      <td>60567.944140</td>\n",
       "      <td>7.830362</td>\n",
       "      <td>6.137356</td>\n",
       "      <td>3.46</td>\n",
       "      <td>22837.361035</td>\n",
       "      <td>1.060194e+06</td>\n",
       "      <td>USNS Williams\\nFPO AP 30153-7653</td>\n",
       "    </tr>\n",
       "    <tr>\n",
       "      <th>4996</th>\n",
       "      <td>78491.275435</td>\n",
       "      <td>6.999135</td>\n",
       "      <td>6.576763</td>\n",
       "      <td>4.02</td>\n",
       "      <td>25616.115489</td>\n",
       "      <td>1.482618e+06</td>\n",
       "      <td>PSC 9258, Box 8489\\nAPO AA 42991-3352</td>\n",
       "    </tr>\n",
       "    <tr>\n",
       "      <th>4997</th>\n",
       "      <td>63390.686886</td>\n",
       "      <td>7.250591</td>\n",
       "      <td>4.805081</td>\n",
       "      <td>2.13</td>\n",
       "      <td>33266.145490</td>\n",
       "      <td>1.030730e+06</td>\n",
       "      <td>4215 Tracy Garden Suite 076\\nJoshualand, VA 01...</td>\n",
       "    </tr>\n",
       "    <tr>\n",
       "      <th>4998</th>\n",
       "      <td>68001.331235</td>\n",
       "      <td>5.534388</td>\n",
       "      <td>7.130144</td>\n",
       "      <td>5.44</td>\n",
       "      <td>42625.620156</td>\n",
       "      <td>1.198657e+06</td>\n",
       "      <td>USS Wallace\\nFPO AE 73316</td>\n",
       "    </tr>\n",
       "    <tr>\n",
       "      <th>4999</th>\n",
       "      <td>65510.581804</td>\n",
       "      <td>5.992305</td>\n",
       "      <td>6.792336</td>\n",
       "      <td>4.07</td>\n",
       "      <td>46501.283803</td>\n",
       "      <td>1.298950e+06</td>\n",
       "      <td>37778 George Ridges Apt. 509\\nEast Holly, NV 2...</td>\n",
       "    </tr>\n",
       "  </tbody>\n",
       "</table>\n",
       "<p>5000 rows × 7 columns</p>\n",
       "</div>"
      ],
      "text/plain": [
       "      Avg. Area Income  Avg. Area House Age  Avg. Area Number of Rooms  \\\n",
       "0         79545.458574             5.682861                   7.009188   \n",
       "1         79248.642455             6.002900                   6.730821   \n",
       "2         61287.067179             5.865890                   8.512727   \n",
       "3         63345.240046             7.188236                   5.586729   \n",
       "4         59982.197226             5.040555                   7.839388   \n",
       "5         80175.754159             4.988408                   6.104512   \n",
       "6         64698.463428             6.025336                   8.147760   \n",
       "7         78394.339278             6.989780                   6.620478   \n",
       "8         59927.660813             5.362126                   6.393121   \n",
       "9         81885.927184             4.423672                   8.167688   \n",
       "10        80527.472083             8.093513                   5.042747   \n",
       "11        50593.695497             4.496513                   7.467627   \n",
       "12        39033.809237             7.671755                   7.250029   \n",
       "13        73163.663441             6.919535                   5.993188   \n",
       "14        69391.380184             5.344776                   8.406418   \n",
       "15        73091.866746             5.443156                   8.517513   \n",
       "16        79706.963058             5.067890                   8.219771   \n",
       "17        61929.077018             4.788550                   5.097010   \n",
       "18        63508.194299             5.947165                   7.187774   \n",
       "19        62085.276403             5.739411                   7.091808   \n",
       "20        86294.999089             6.627457                   8.011898   \n",
       "21        60835.089979             5.551222                   6.517175   \n",
       "22        64490.650267             4.210323                   5.478088   \n",
       "23        60697.351539             6.170484                   7.150537   \n",
       "24        59748.855487             5.339340                   7.748682   \n",
       "25        56974.476539             8.287562                   7.312880   \n",
       "26        82173.626076             4.018525                   6.992699   \n",
       "27        64626.880978             5.443360                   6.988754   \n",
       "28        90499.057451             6.384359                   4.242191   \n",
       "29        59323.792100             6.977828                   8.273697   \n",
       "...                ...                  ...                        ...   \n",
       "4970      55980.204807             7.014510                   5.458789   \n",
       "4971      73491.134427             5.784430                   4.425959   \n",
       "4972      83695.272383             7.643507                   7.127219   \n",
       "4973      78743.759274             6.583685                   6.595683   \n",
       "4974      70720.296463             6.411801                   5.048128   \n",
       "4975      54037.580879             8.471765                   6.966072   \n",
       "4976      75046.313791             5.351169                   7.797825   \n",
       "4977      75980.438843             6.583105                   5.914892   \n",
       "4978      80393.339500             8.899713                   5.652974   \n",
       "4979      82224.695006             5.434087                   8.375708   \n",
       "4980      75664.024482             5.789203                   6.415312   \n",
       "4981      71663.871293             6.150745                   7.311907   \n",
       "4982      58800.908770             5.976507                   7.304051   \n",
       "4983      69655.183954             7.721100                   6.077795   \n",
       "4984      62623.359828             5.071624                   6.771015   \n",
       "4985      75117.042949             6.036275                   6.538111   \n",
       "4986      71060.406015             5.718839                   7.222730   \n",
       "4987      65729.222330             6.237787                   6.860475   \n",
       "4988      67637.840665             7.056673                   5.774409   \n",
       "4989      47965.406896             5.694638                   7.363327   \n",
       "4990      52723.876555             5.452237                   8.124571   \n",
       "4991      74102.191890             5.657841                   7.683993   \n",
       "4992      87499.125743             6.403473                   4.836091   \n",
       "4993      69639.140896             5.007510                   7.778375   \n",
       "4994      73060.846226             5.293682                   6.312253   \n",
       "4995      60567.944140             7.830362                   6.137356   \n",
       "4996      78491.275435             6.999135                   6.576763   \n",
       "4997      63390.686886             7.250591                   4.805081   \n",
       "4998      68001.331235             5.534388                   7.130144   \n",
       "4999      65510.581804             5.992305                   6.792336   \n",
       "\n",
       "      Avg. Area Number of Bedrooms  Area Population         Price  \\\n",
       "0                             4.09     23086.800503  1.059034e+06   \n",
       "1                             3.09     40173.072174  1.505891e+06   \n",
       "2                             5.13     36882.159400  1.058988e+06   \n",
       "3                             3.26     34310.242831  1.260617e+06   \n",
       "4                             4.23     26354.109472  6.309435e+05   \n",
       "5                             4.04     26748.428425  1.068138e+06   \n",
       "6                             3.41     60828.249085  1.502056e+06   \n",
       "7                             2.42     36516.358972  1.573937e+06   \n",
       "8                             2.30     29387.396003  7.988695e+05   \n",
       "9                             6.10     40149.965749  1.545155e+06   \n",
       "10                            4.10     47224.359840  1.707046e+06   \n",
       "11                            4.49     34343.991886  6.637324e+05   \n",
       "12                            3.10     39220.361467  1.042814e+06   \n",
       "13                            2.27     32326.123139  1.291332e+06   \n",
       "14                            4.37     35521.294033  1.402818e+06   \n",
       "15                            4.01     23929.524053  1.306675e+06   \n",
       "16                            3.12     39717.813576  1.556787e+06   \n",
       "17                            4.30     24595.901498  5.284852e+05   \n",
       "18                            5.12     35719.653052  1.019426e+06   \n",
       "19                            5.49     44922.106702  1.030591e+06   \n",
       "20                            4.07     47560.775336  2.146925e+06   \n",
       "21                            2.10     45574.741662  9.292476e+05   \n",
       "22                            4.31     40358.960106  7.188872e+05   \n",
       "23                            6.34     28140.967088  7.439998e+05   \n",
       "24                            4.23     27809.986544  8.957371e+05   \n",
       "25                            4.33     40694.869513  1.453975e+06   \n",
       "26                            2.03     38853.918066  1.125693e+06   \n",
       "27                            4.00     27784.742280  9.754295e+05   \n",
       "28                            3.04     33970.164990  1.240764e+06   \n",
       "29                            4.07     37520.657732  1.577018e+06   \n",
       "...                            ...              ...           ...   \n",
       "4970                          2.11     43968.687046  1.120943e+06   \n",
       "4971                          3.37     30800.541060  1.111307e+06   \n",
       "4972                          5.05     33113.759057  1.736402e+06   \n",
       "4973                          4.07     24381.144540  1.340770e+06   \n",
       "4974                          3.01     19114.019253  8.013486e+05   \n",
       "4975                          3.27     28696.170856  1.324382e+06   \n",
       "4976                          5.23     34107.888619  1.340344e+06   \n",
       "4977                          3.23     40394.593489  1.518478e+06   \n",
       "4978                          4.04     39547.932489  1.910585e+06   \n",
       "4979                          3.12     57166.867510  1.823498e+06   \n",
       "4980                          2.02     54724.251275  1.406865e+06   \n",
       "4981                          6.33     24109.778060  1.203850e+06   \n",
       "4982                          6.43     37426.709745  1.020096e+06   \n",
       "4983                          4.29     32902.355584  1.194357e+06   \n",
       "4984                          3.33     50985.971202  1.211900e+06   \n",
       "4985                          2.22     43976.031060  1.378938e+06   \n",
       "4986                          4.34     34814.585591  1.260241e+06   \n",
       "4987                          3.12     25573.854289  1.197073e+06   \n",
       "4988                          3.05     43846.531340  1.275143e+06   \n",
       "4989                          5.40     46071.947337  8.852050e+05   \n",
       "4990                          6.39     14802.088438  4.795006e+05   \n",
       "4991                          3.13     24041.270592  1.263721e+06   \n",
       "4992                          4.02     40815.199679  1.568701e+06   \n",
       "4993                          6.05     54056.128430  1.381831e+06   \n",
       "4994                          4.16     22695.695480  9.053549e+05   \n",
       "4995                          3.46     22837.361035  1.060194e+06   \n",
       "4996                          4.02     25616.115489  1.482618e+06   \n",
       "4997                          2.13     33266.145490  1.030730e+06   \n",
       "4998                          5.44     42625.620156  1.198657e+06   \n",
       "4999                          4.07     46501.283803  1.298950e+06   \n",
       "\n",
       "                                                Address  \n",
       "0     208 Michael Ferry Apt. 674\\nLaurabury, NE 3701...  \n",
       "1     188 Johnson Views Suite 079\\nLake Kathleen, CA...  \n",
       "2     9127 Elizabeth Stravenue\\nDanieltown, WI 06482...  \n",
       "3                             USS Barnett\\nFPO AP 44820  \n",
       "4                            USNS Raymond\\nFPO AE 09386  \n",
       "5     06039 Jennifer Islands Apt. 443\\nTracyport, KS...  \n",
       "6     4759 Daniel Shoals Suite 442\\nNguyenburgh, CO ...  \n",
       "7        972 Joyce Viaduct\\nLake William, TN 17778-6483  \n",
       "8                             USS Gilbert\\nFPO AA 20957  \n",
       "9                      Unit 9446 Box 0958\\nDPO AE 97025  \n",
       "10    6368 John Motorway Suite 700\\nJanetbury, NM 26854  \n",
       "11    911 Castillo Park Apt. 717\\nDavisborough, PW 7...  \n",
       "12    209 Natasha Stream Suite 961\\nHuffmanland, NE ...  \n",
       "13    829 Welch Track Apt. 992\\nNorth John, AR 26532...  \n",
       "14                     PSC 5330, Box 4420\\nAPO AP 08302  \n",
       "15       2278 Shannon View\\nNorth Carriemouth, NM 84617  \n",
       "16     064 Hayley Unions\\nNicholsborough, HI 44161-1887  \n",
       "17        5498 Rachel Locks\\nNew Gregoryshire, PW 54755  \n",
       "18                     Unit 7424 Box 2786\\nDPO AE 71255  \n",
       "19      19696 Benjamin Cape\\nStephentown, ME 36952-4733  \n",
       "20    030 Larry Park Suite 665\\nThomashaven, HI 8794...  \n",
       "21                             USNS Brown\\nFPO AP 85833  \n",
       "22            95198 Ortiz Key\\nPort Sara, TN 24541-2855  \n",
       "23    9003 Jay Plains Suite 838\\nLake Elizabeth, IN ...  \n",
       "24         24282 Paul Valley\\nWest Perry, MI 03169-5806  \n",
       "25               61938 Brady Falls\\nLewisfort, DE 61227  \n",
       "26         3599 Ramirez Springs\\nJacksonhaven, AZ 72798  \n",
       "27    073 Christopher Falls Suite 882\\nWest Cynthia,...  \n",
       "28    6531 Chase Prairie Apt. 245\\nSusanshire, MN 22365  \n",
       "29    17124 Johnson Squares\\nLake Robertfurt, AL 618...  \n",
       "...                                                 ...  \n",
       "4970  2558 King Trail\\nEast Catherinebury, MP 23625-...  \n",
       "4971  6043 Stevens Stream\\nWest Kimberlymouth, ME 49723  \n",
       "4972  33465 Hernandez Forest Apt. 692\\nPort Ashleyfo...  \n",
       "4973   805 David Knoll Apt. 216\\nMccarthyview, GU 74316  \n",
       "4974  14742 Lopez Ridge Apt. 889\\nJessicatown, CA 28254  \n",
       "4975  6278 Jenkins Harbors Apt. 807\\nNew Yvettehaven...  \n",
       "4976           55823 Stuart Fields\\nNunezstad, NM 03601  \n",
       "4977  1831 Escobar Plain Suite 171\\nMartinezberg, OH...  \n",
       "4978        02084 Rivera Lock\\nHallville, NJ 32367-9579  \n",
       "4979     4679 Turner Tunnel\\nRosariobury, CT 68552-4766  \n",
       "4980   0476 Jessica Shoals\\nMelissamouth, DE 39609-2777  \n",
       "4981    1316 Tony Inlet Suite 235\\nWest Jimmy, SC 72946  \n",
       "4982    109 Lee Wall Apt. 315\\nLunamouth, AZ 05121-3634  \n",
       "4983  39174 Jessica Mission Apt. 539\\nWest Cindyboro...  \n",
       "4984  9894 Greg Ridge\\nNorth Tiffanyhaven, ID 66602-...  \n",
       "4985                   PSC 7442, Box 6234\\nAPO AP 13017  \n",
       "4986     5611 Matthew Avenue\\nLake Kevin, FM 72963-8891  \n",
       "4987  641 Lisa Parkways Suite 552\\nWest Amandaside, ...  \n",
       "4988  6066 Sanders Court Apt. 914\\nSouth Alexis, FM ...  \n",
       "4989     19960 Scott Street\\nPort Brenda, MO 02292-8651  \n",
       "4990         86727 Kelly Plaza\\nLake Veronica, IL 04474  \n",
       "4991         2871 John Lodge\\nAmychester, GU 61734-5597  \n",
       "4992              Unit 2096 Box 9559\\nDPO AE 80983-8797  \n",
       "4993  5259 David Causeway Apt. 975\\nSouth Alexstad, ...  \n",
       "4994             5224 Lamb Passage\\nNancystad, GA 16579  \n",
       "4995                   USNS Williams\\nFPO AP 30153-7653  \n",
       "4996              PSC 9258, Box 8489\\nAPO AA 42991-3352  \n",
       "4997  4215 Tracy Garden Suite 076\\nJoshualand, VA 01...  \n",
       "4998                          USS Wallace\\nFPO AE 73316  \n",
       "4999  37778 George Ridges Apt. 509\\nEast Holly, NV 2...  \n",
       "\n",
       "[5000 rows x 7 columns]"
      ]
     },
     "execution_count": 44,
     "metadata": {},
     "output_type": "execute_result"
    }
   ],
   "source": [
    "house=pd.read_csv(\"USA_Housing.csv\")\n",
    "house"
   ]
  },
  {
   "cell_type": "code",
   "execution_count": 45,
   "metadata": {},
   "outputs": [
    {
     "name": "stdout",
     "output_type": "stream",
     "text": [
      "<class 'pandas.core.frame.DataFrame'>\n",
      "RangeIndex: 5000 entries, 0 to 4999\n",
      "Data columns (total 7 columns):\n",
      "Avg. Area Income                5000 non-null float64\n",
      "Avg. Area House Age             5000 non-null float64\n",
      "Avg. Area Number of Rooms       5000 non-null float64\n",
      "Avg. Area Number of Bedrooms    5000 non-null float64\n",
      "Area Population                 5000 non-null float64\n",
      "Price                           5000 non-null float64\n",
      "Address                         5000 non-null object\n",
      "dtypes: float64(6), object(1)\n",
      "memory usage: 273.5+ KB\n"
     ]
    }
   ],
   "source": [
    "house.info()"
   ]
  },
  {
   "cell_type": "code",
   "execution_count": 46,
   "metadata": {},
   "outputs": [
    {
     "data": {
      "text/plain": [
       "(5000, 7)"
      ]
     },
     "execution_count": 46,
     "metadata": {},
     "output_type": "execute_result"
    }
   ],
   "source": [
    "house.shape"
   ]
  },
  {
   "cell_type": "code",
   "execution_count": 47,
   "metadata": {},
   "outputs": [
    {
     "data": {
      "text/plain": [
       "Avg. Area Income                0\n",
       "Avg. Area House Age             0\n",
       "Avg. Area Number of Rooms       0\n",
       "Avg. Area Number of Bedrooms    0\n",
       "Area Population                 0\n",
       "Price                           0\n",
       "Address                         0\n",
       "dtype: int64"
      ]
     },
     "execution_count": 47,
     "metadata": {},
     "output_type": "execute_result"
    }
   ],
   "source": [
    "house.isnull().sum()"
   ]
  },
  {
   "cell_type": "code",
   "execution_count": 48,
   "metadata": {},
   "outputs": [
    {
     "data": {
      "text/plain": [
       "0       0\n",
       "1       0\n",
       "2       0\n",
       "3       0\n",
       "4       0\n",
       "5       0\n",
       "6       0\n",
       "7       0\n",
       "8       0\n",
       "9       0\n",
       "10      0\n",
       "11      0\n",
       "12      0\n",
       "13      0\n",
       "14      0\n",
       "15      0\n",
       "16      0\n",
       "17      0\n",
       "18      0\n",
       "19      0\n",
       "20      0\n",
       "21      0\n",
       "22      0\n",
       "23      0\n",
       "24      0\n",
       "25      0\n",
       "26      0\n",
       "27      0\n",
       "28      0\n",
       "29      0\n",
       "       ..\n",
       "4970    0\n",
       "4971    0\n",
       "4972    0\n",
       "4973    0\n",
       "4974    0\n",
       "4975    0\n",
       "4976    0\n",
       "4977    0\n",
       "4978    0\n",
       "4979    0\n",
       "4980    0\n",
       "4981    0\n",
       "4982    0\n",
       "4983    0\n",
       "4984    0\n",
       "4985    0\n",
       "4986    0\n",
       "4987    0\n",
       "4988    0\n",
       "4989    0\n",
       "4990    0\n",
       "4991    0\n",
       "4992    0\n",
       "4993    0\n",
       "4994    0\n",
       "4995    0\n",
       "4996    0\n",
       "4997    0\n",
       "4998    0\n",
       "4999    0\n",
       "Length: 5000, dtype: int64"
      ]
     },
     "execution_count": 48,
     "metadata": {},
     "output_type": "execute_result"
    }
   ],
   "source": [
    "house.isnull().sum(axis=1)"
   ]
  },
  {
   "cell_type": "code",
   "execution_count": 49,
   "metadata": {},
   "outputs": [
    {
     "data": {
      "text/html": [
       "<div>\n",
       "<style scoped>\n",
       "    .dataframe tbody tr th:only-of-type {\n",
       "        vertical-align: middle;\n",
       "    }\n",
       "\n",
       "    .dataframe tbody tr th {\n",
       "        vertical-align: top;\n",
       "    }\n",
       "\n",
       "    .dataframe thead th {\n",
       "        text-align: right;\n",
       "    }\n",
       "</style>\n",
       "<table border=\"1\" class=\"dataframe\">\n",
       "  <thead>\n",
       "    <tr style=\"text-align: right;\">\n",
       "      <th></th>\n",
       "      <th>Avg. Area Income</th>\n",
       "      <th>Avg. Area House Age</th>\n",
       "      <th>Avg. Area Number of Rooms</th>\n",
       "      <th>Avg. Area Number of Bedrooms</th>\n",
       "      <th>Area Population</th>\n",
       "      <th>Price</th>\n",
       "    </tr>\n",
       "  </thead>\n",
       "  <tbody>\n",
       "    <tr>\n",
       "      <th>count</th>\n",
       "      <td>5000.000000</td>\n",
       "      <td>5000.000000</td>\n",
       "      <td>5000.000000</td>\n",
       "      <td>5000.000000</td>\n",
       "      <td>5000.000000</td>\n",
       "      <td>5.000000e+03</td>\n",
       "    </tr>\n",
       "    <tr>\n",
       "      <th>mean</th>\n",
       "      <td>68583.108984</td>\n",
       "      <td>5.977222</td>\n",
       "      <td>6.987792</td>\n",
       "      <td>3.981330</td>\n",
       "      <td>36163.516039</td>\n",
       "      <td>1.232073e+06</td>\n",
       "    </tr>\n",
       "    <tr>\n",
       "      <th>std</th>\n",
       "      <td>10657.991214</td>\n",
       "      <td>0.991456</td>\n",
       "      <td>1.005833</td>\n",
       "      <td>1.234137</td>\n",
       "      <td>9925.650114</td>\n",
       "      <td>3.531176e+05</td>\n",
       "    </tr>\n",
       "    <tr>\n",
       "      <th>min</th>\n",
       "      <td>17796.631190</td>\n",
       "      <td>2.644304</td>\n",
       "      <td>3.236194</td>\n",
       "      <td>2.000000</td>\n",
       "      <td>172.610686</td>\n",
       "      <td>1.593866e+04</td>\n",
       "    </tr>\n",
       "    <tr>\n",
       "      <th>25%</th>\n",
       "      <td>61480.562388</td>\n",
       "      <td>5.322283</td>\n",
       "      <td>6.299250</td>\n",
       "      <td>3.140000</td>\n",
       "      <td>29403.928702</td>\n",
       "      <td>9.975771e+05</td>\n",
       "    </tr>\n",
       "    <tr>\n",
       "      <th>50%</th>\n",
       "      <td>68804.286404</td>\n",
       "      <td>5.970429</td>\n",
       "      <td>7.002902</td>\n",
       "      <td>4.050000</td>\n",
       "      <td>36199.406689</td>\n",
       "      <td>1.232669e+06</td>\n",
       "    </tr>\n",
       "    <tr>\n",
       "      <th>75%</th>\n",
       "      <td>75783.338666</td>\n",
       "      <td>6.650808</td>\n",
       "      <td>7.665871</td>\n",
       "      <td>4.490000</td>\n",
       "      <td>42861.290769</td>\n",
       "      <td>1.471210e+06</td>\n",
       "    </tr>\n",
       "    <tr>\n",
       "      <th>max</th>\n",
       "      <td>107701.748378</td>\n",
       "      <td>9.519088</td>\n",
       "      <td>10.759588</td>\n",
       "      <td>6.500000</td>\n",
       "      <td>69621.713378</td>\n",
       "      <td>2.469066e+06</td>\n",
       "    </tr>\n",
       "  </tbody>\n",
       "</table>\n",
       "</div>"
      ],
      "text/plain": [
       "       Avg. Area Income  Avg. Area House Age  Avg. Area Number of Rooms  \\\n",
       "count       5000.000000          5000.000000                5000.000000   \n",
       "mean       68583.108984             5.977222                   6.987792   \n",
       "std        10657.991214             0.991456                   1.005833   \n",
       "min        17796.631190             2.644304                   3.236194   \n",
       "25%        61480.562388             5.322283                   6.299250   \n",
       "50%        68804.286404             5.970429                   7.002902   \n",
       "75%        75783.338666             6.650808                   7.665871   \n",
       "max       107701.748378             9.519088                  10.759588   \n",
       "\n",
       "       Avg. Area Number of Bedrooms  Area Population         Price  \n",
       "count                   5000.000000      5000.000000  5.000000e+03  \n",
       "mean                       3.981330     36163.516039  1.232073e+06  \n",
       "std                        1.234137      9925.650114  3.531176e+05  \n",
       "min                        2.000000       172.610686  1.593866e+04  \n",
       "25%                        3.140000     29403.928702  9.975771e+05  \n",
       "50%                        4.050000     36199.406689  1.232669e+06  \n",
       "75%                        4.490000     42861.290769  1.471210e+06  \n",
       "max                        6.500000     69621.713378  2.469066e+06  "
      ]
     },
     "execution_count": 49,
     "metadata": {},
     "output_type": "execute_result"
    }
   ],
   "source": [
    "house.describe()"
   ]
  },
  {
   "cell_type": "code",
   "execution_count": 50,
   "metadata": {},
   "outputs": [
    {
     "data": {
      "text/plain": [
       "Avg. Area Income               -0.033720\n",
       "Avg. Area House Age            -0.007214\n",
       "Avg. Area Number of Rooms      -0.040996\n",
       "Avg. Area Number of Bedrooms    0.376240\n",
       "Area Population                 0.050650\n",
       "Price                          -0.002718\n",
       "dtype: float64"
      ]
     },
     "execution_count": 50,
     "metadata": {},
     "output_type": "execute_result"
    }
   ],
   "source": [
    "house.skew()"
   ]
  },
  {
   "cell_type": "code",
   "execution_count": 51,
   "metadata": {},
   "outputs": [
    {
     "data": {
      "text/plain": [
       "Avg. Area Income                0.045574\n",
       "Avg. Area House Age            -0.083437\n",
       "Avg. Area Number of Rooms      -0.074652\n",
       "Avg. Area Number of Bedrooms   -0.701566\n",
       "Area Population                -0.006733\n",
       "Price                          -0.054918\n",
       "dtype: float64"
      ]
     },
     "execution_count": 51,
     "metadata": {},
     "output_type": "execute_result"
    }
   ],
   "source": [
    "house.kurtosis()"
   ]
  },
  {
   "cell_type": "code",
   "execution_count": 52,
   "metadata": {},
   "outputs": [
    {
     "data": {
      "text/plain": [
       "Index(['Avg. Area Income', 'Avg. Area House Age', 'Avg. Area Number of Rooms',\n",
       "       'Avg. Area Number of Bedrooms', 'Area Population', 'Price', 'Address'],\n",
       "      dtype='object')"
      ]
     },
     "execution_count": 52,
     "metadata": {},
     "output_type": "execute_result"
    }
   ],
   "source": [
    "house.columns"
   ]
  },
  {
   "cell_type": "code",
   "execution_count": 53,
   "metadata": {},
   "outputs": [
    {
     "data": {
      "text/plain": [
       "14302.776277691672"
      ]
     },
     "execution_count": 53,
     "metadata": {},
     "output_type": "execute_result"
    }
   ],
   "source": [
    "stats.iqr(house[\"Avg. Area Income\"])"
   ]
  },
  {
   "cell_type": "code",
   "execution_count": 54,
   "metadata": {},
   "outputs": [
    {
     "data": {
      "text/plain": [
       "<matplotlib.axes._subplots.AxesSubplot at 0x26927fc5780>"
      ]
     },
     "execution_count": 54,
     "metadata": {},
     "output_type": "execute_result"
    },
    {
     "data": {
      "image/png": "[encoded data removed]",
      "text/plain": [
       "<Figure size 432x288 with 1 Axes>"
      ]
     },
     "metadata": {
      "needs_background": "light"
     },
     "output_type": "display_data"
    }
   ],
   "source": [
    "sns.distplot(house[\"Avg. Area Income\"])"
   ]
  },
  {
   "cell_type": "code",
   "execution_count": 55,
   "metadata": {},
   "outputs": [
    {
     "data": {
      "text/plain": [
       "<matplotlib.axes._subplots.AxesSubplot at 0x2692807ac88>"
      ]
     },
     "execution_count": 55,
     "metadata": {},
     "output_type": "execute_result"
    },
    {
     "data": {
      "image/png": "[encoded data removed]",
      "text/plain": [
       "<Figure size 432x288 with 1 Axes>"
      ]
     },
     "metadata": {
      "needs_background": "light"
     },
     "output_type": "display_data"
    }
   ],
   "source": [
    "sns.distplot(house[\"Avg. Area House Age\"],hist=False)"
   ]
  },
  {
   "cell_type": "code",
   "execution_count": 56,
   "metadata": {},
   "outputs": [
    {
     "data": {
      "text/plain": [
       "<matplotlib.axes._subplots.AxesSubplot at 0x269281080b8>"
      ]
     },
     "execution_count": 56,
     "metadata": {},
     "output_type": "execute_result"
    },
    {
     "data": {
      "image/png": "[encoded data removed]",
      "text/plain": [
       "<Figure size 432x288 with 1 Axes>"
      ]
     },
     "metadata": {
      "needs_background": "light"
     },
     "output_type": "display_data"
    }
   ],
   "source": [
    "sns.distplot(house[\"Avg. Area Number of Rooms\"],hist=False)"
   ]
  },
  {
   "cell_type": "code",
   "execution_count": 57,
   "metadata": {},
   "outputs": [
    {
     "data": {
      "text/plain": [
       "<matplotlib.axes._subplots.AxesSubplot at 0x269281cdd68>"
      ]
     },
     "execution_count": 57,
     "metadata": {},
     "output_type": "execute_result"
    },
    {
     "data": {
      "image/png": "[encoded data removed]",
      "text/plain": [
       "<Figure size 432x288 with 1 Axes>"
      ]
     },
     "metadata": {
      "needs_background": "light"
     },
     "output_type": "display_data"
    }
   ],
   "source": [
    "sns.distplot(house[\"Avg. Area Number of Bedrooms\"],hist=False)"
   ]
  },
  {
   "cell_type": "code",
   "execution_count": 58,
   "metadata": {},
   "outputs": [
    {
     "data": {
      "text/plain": [
       "<matplotlib.axes._subplots.AxesSubplot at 0x26928210438>"
      ]
     },
     "execution_count": 58,
     "metadata": {},
     "output_type": "execute_result"
    },
    {
     "data": {
      "image/png": "[encoded data removed]",
      "text/plain": [
       "<Figure size 432x288 with 1 Axes>"
      ]
     },
     "metadata": {
      "needs_background": "light"
     },
     "output_type": "display_data"
    }
   ],
   "source": [
    "sns.distplot(house[\"Area Population\"],hist=False)"
   ]
  },
  {
   "cell_type": "code",
   "execution_count": 59,
   "metadata": {},
   "outputs": [],
   "source": [
    "X=house.drop([\"Price\",\"Address\"],axis=1)\n",
    "y=house[\"Price\"]"
   ]
  },
  {
   "cell_type": "code",
   "execution_count": 60,
   "metadata": {},
   "outputs": [
    {
     "data": {
      "text/html": [
       "<div>\n",
       "<style scoped>\n",
       "    .dataframe tbody tr th:only-of-type {\n",
       "        vertical-align: middle;\n",
       "    }\n",
       "\n",
       "    .dataframe tbody tr th {\n",
       "        vertical-align: top;\n",
       "    }\n",
       "\n",
       "    .dataframe thead th {\n",
       "        text-align: right;\n",
       "    }\n",
       "</style>\n",
       "<table border=\"1\" class=\"dataframe\">\n",
       "  <thead>\n",
       "    <tr style=\"text-align: right;\">\n",
       "      <th></th>\n",
       "      <th>Avg. Area Income</th>\n",
       "      <th>Avg. Area House Age</th>\n",
       "      <th>Avg. Area Number of Rooms</th>\n",
       "      <th>Avg. Area Number of Bedrooms</th>\n",
       "      <th>Area Population</th>\n",
       "    </tr>\n",
       "  </thead>\n",
       "  <tbody>\n",
       "    <tr>\n",
       "      <th>0</th>\n",
       "      <td>79545.458574</td>\n",
       "      <td>5.682861</td>\n",
       "      <td>7.009188</td>\n",
       "      <td>4.09</td>\n",
       "      <td>23086.800503</td>\n",
       "    </tr>\n",
       "    <tr>\n",
       "      <th>1</th>\n",
       "      <td>79248.642455</td>\n",
       "      <td>6.002900</td>\n",
       "      <td>6.730821</td>\n",
       "      <td>3.09</td>\n",
       "      <td>40173.072174</td>\n",
       "    </tr>\n",
       "    <tr>\n",
       "      <th>2</th>\n",
       "      <td>61287.067179</td>\n",
       "      <td>5.865890</td>\n",
       "      <td>8.512727</td>\n",
       "      <td>5.13</td>\n",
       "      <td>36882.159400</td>\n",
       "    </tr>\n",
       "    <tr>\n",
       "      <th>3</th>\n",
       "      <td>63345.240046</td>\n",
       "      <td>7.188236</td>\n",
       "      <td>5.586729</td>\n",
       "      <td>3.26</td>\n",
       "      <td>34310.242831</td>\n",
       "    </tr>\n",
       "    <tr>\n",
       "      <th>4</th>\n",
       "      <td>59982.197226</td>\n",
       "      <td>5.040555</td>\n",
       "      <td>7.839388</td>\n",
       "      <td>4.23</td>\n",
       "      <td>26354.109472</td>\n",
       "    </tr>\n",
       "  </tbody>\n",
       "</table>\n",
       "</div>"
      ],
      "text/plain": [
       "   Avg. Area Income  Avg. Area House Age  Avg. Area Number of Rooms  \\\n",
       "0      79545.458574             5.682861                   7.009188   \n",
       "1      79248.642455             6.002900                   6.730821   \n",
       "2      61287.067179             5.865890                   8.512727   \n",
       "3      63345.240046             7.188236                   5.586729   \n",
       "4      59982.197226             5.040555                   7.839388   \n",
       "\n",
       "   Avg. Area Number of Bedrooms  Area Population  \n",
       "0                          4.09     23086.800503  \n",
       "1                          3.09     40173.072174  \n",
       "2                          5.13     36882.159400  \n",
       "3                          3.26     34310.242831  \n",
       "4                          4.23     26354.109472  "
      ]
     },
     "execution_count": 60,
     "metadata": {},
     "output_type": "execute_result"
    }
   ],
   "source": [
    "X.head()"
   ]
  },
  {
   "cell_type": "code",
   "execution_count": 61,
   "metadata": {},
   "outputs": [
    {
     "data": {
      "text/plain": [
       "0    1.059034e+06\n",
       "1    1.505891e+06\n",
       "2    1.058988e+06\n",
       "3    1.260617e+06\n",
       "4    6.309435e+05\n",
       "Name: Price, dtype: float64"
      ]
     },
     "execution_count": 61,
     "metadata": {},
     "output_type": "execute_result"
    }
   ],
   "source": [
    "y.head()"
   ]
  },
  {
   "cell_type": "code",
   "execution_count": 62,
   "metadata": {},
   "outputs": [
    {
     "data": {
      "text/plain": [
       "pandas.core.frame.DataFrame"
      ]
     },
     "execution_count": 62,
     "metadata": {},
     "output_type": "execute_result"
    }
   ],
   "source": [
    "type(X)"
   ]
  },
  {
   "cell_type": "code",
   "execution_count": 63,
   "metadata": {},
   "outputs": [
    {
     "data": {
      "text/plain": [
       "pandas.core.series.Series"
      ]
     },
     "execution_count": 63,
     "metadata": {},
     "output_type": "execute_result"
    }
   ],
   "source": [
    "type(y)"
   ]
  },
  {
   "cell_type": "markdown",
   "metadata": {},
   "source": [
    "Train test splitting"
   ]
  },
  {
   "cell_type": "code",
   "execution_count": 64,
   "metadata": {},
   "outputs": [],
   "source": [
    "from sklearn.model_selection import train_test_split"
   ]
  },
  {
   "cell_type": "code",
   "execution_count": 65,
   "metadata": {},
   "outputs": [],
   "source": [
    "X_train,X_test,y_train,y_test=train_test_split(X,y,test_size=.3,random_state=101)"
   ]
  },
  {
   "cell_type": "markdown",
   "metadata": {},
   "source": [
    "Creating and training model"
   ]
  },
  {
   "cell_type": "code",
   "execution_count": 66,
   "metadata": {},
   "outputs": [],
   "source": [
    "from sklearn.linear_model import LinearRegression"
   ]
  },
  {
   "cell_type": "code",
   "execution_count": 67,
   "metadata": {},
   "outputs": [],
   "source": [
    "lm=LinearRegression()"
   ]
  },
  {
   "cell_type": "code",
   "execution_count": 68,
   "metadata": {},
   "outputs": [
    {
     "data": {
      "text/plain": [
       "LinearRegression(copy_X=True, fit_intercept=True, n_jobs=None,\n",
       "         normalize=False)"
      ]
     },
     "execution_count": 68,
     "metadata": {},
     "output_type": "execute_result"
    }
   ],
   "source": [
    "lm.fit(X_train,y_train)"
   ]
  },
  {
   "cell_type": "markdown",
   "metadata": {},
   "source": [
    "Model Evaluation"
   ]
  },
  {
   "cell_type": "code",
   "execution_count": 69,
   "metadata": {},
   "outputs": [
    {
     "name": "stdout",
     "output_type": "stream",
     "text": [
      "-2641372.667301679\n"
     ]
    }
   ],
   "source": [
    "#print the intercept\n",
    "print(lm.intercept_)"
   ]
  },
  {
   "cell_type": "code",
   "execution_count": 70,
   "metadata": {},
   "outputs": [
    {
     "data": {
      "text/plain": [
       "array([2.16176350e+01, 1.65221120e+05, 1.21405377e+05, 1.31871878e+03,\n",
       "       1.52251955e+01])"
      ]
     },
     "execution_count": 70,
     "metadata": {},
     "output_type": "execute_result"
    }
   ],
   "source": [
    "lm.coef_"
   ]
  },
  {
   "cell_type": "markdown",
   "metadata": {},
   "source": [
    "Predictions from our model"
   ]
  },
  {
   "cell_type": "code",
   "execution_count": 71,
   "metadata": {},
   "outputs": [],
   "source": [
    "y_pred=lm.predict(X_test)"
   ]
  },
  {
   "cell_type": "code",
   "execution_count": 72,
   "metadata": {},
   "outputs": [],
   "source": [
    "y_pred_train=lm.predict(X_train)"
   ]
  },
  {
   "cell_type": "code",
   "execution_count": 73,
   "metadata": {},
   "outputs": [
    {
     "name": "stdout",
     "output_type": "stream",
     "text": [
      "-2641372.667301679\n"
     ]
    }
   ],
   "source": [
    "print(lm.intercept_)"
   ]
  },
  {
   "cell_type": "code",
   "execution_count": 74,
   "metadata": {},
   "outputs": [
    {
     "name": "stdout",
     "output_type": "stream",
     "text": [
      "[2.16176350e+01 1.65221120e+05 1.21405377e+05 1.31871878e+03\n",
      " 1.52251955e+01]\n"
     ]
    }
   ],
   "source": [
    "print(lm.coef_)"
   ]
  },
  {
   "cell_type": "code",
   "execution_count": 75,
   "metadata": {},
   "outputs": [
    {
     "data": {
      "text/plain": [
       "1500"
      ]
     },
     "execution_count": 75,
     "metadata": {},
     "output_type": "execute_result"
    }
   ],
   "source": [
    "len(y_pred)"
   ]
  },
  {
   "cell_type": "code",
   "execution_count": 76,
   "metadata": {},
   "outputs": [
    {
     "data": {
      "text/plain": [
       "1500"
      ]
     },
     "execution_count": 76,
     "metadata": {},
     "output_type": "execute_result"
    }
   ],
   "source": [
    "len(y_test)"
   ]
  },
  {
   "cell_type": "markdown",
   "metadata": {},
   "source": [
    "Evaluation"
   ]
  },
  {
   "cell_type": "code",
   "execution_count": 77,
   "metadata": {},
   "outputs": [],
   "source": [
    "from sklearn import metrics"
   ]
  },
  {
   "cell_type": "code",
   "execution_count": 78,
   "metadata": {},
   "outputs": [
    {
     "data": {
      "text/plain": [
       "0.9185060945363612"
      ]
     },
     "execution_count": 78,
     "metadata": {},
     "output_type": "execute_result"
    }
   ],
   "source": [
    "#finding R2 for actual y_test output and what we got from model. ie. y_pred\n",
    "metrics.r2_score(y_test,y_pred)"
   ]
  },
  {
   "cell_type": "code",
   "execution_count": 79,
   "metadata": {},
   "outputs": [
    {
     "data": {
      "text/plain": [
       "0.9177641115595528"
      ]
     },
     "execution_count": 79,
     "metadata": {},
     "output_type": "execute_result"
    }
   ],
   "source": [
    "metrics.r2_score(y_train,y_pred_train)"
   ]
  },
  {
   "cell_type": "code",
   "execution_count": 80,
   "metadata": {},
   "outputs": [
    {
     "data": {
      "text/plain": [
       "Index(['Avg. Area Income', 'Avg. Area House Age', 'Avg. Area Number of Rooms',\n",
       "       'Avg. Area Number of Bedrooms', 'Area Population', 'Price', 'Address'],\n",
       "      dtype='object')"
      ]
     },
     "execution_count": 80,
     "metadata": {},
     "output_type": "execute_result"
    }
   ],
   "source": [
    "house.columns"
   ]
  },
  {
   "cell_type": "code",
   "execution_count": 81,
   "metadata": {},
   "outputs": [
    {
     "data": {
      "text/plain": [
       "<matplotlib.axes._subplots.AxesSubplot at 0x269281fb4e0>"
      ]
     },
     "execution_count": 81,
     "metadata": {},
     "output_type": "execute_result"
    },
    {
     "data": {
      "image/png": "[encoded data removed]",
      "text/plain": [
       "<Figure size 432x288 with 1 Axes>"
      ]
     },
     "metadata": {
      "needs_background": "light"
     },
     "output_type": "display_data"
    }
   ],
   "source": [
    "sns.distplot(y_pred,bins=50)"
   ]
  },
  {
   "cell_type": "markdown",
   "metadata": {},
   "source": [
    "Regression Evaluation Metrics"
   ]
  },
  {
   "cell_type": "code",
   "execution_count": 82,
   "metadata": {},
   "outputs": [
    {
     "name": "stdout",
     "output_type": "stream",
     "text": [
      "MAE: 81257.55795856068\n",
      "MSE: 10169125565.897734\n",
      "RMSE: 100842.08231635111\n"
     ]
    }
   ],
   "source": [
    "print('MAE:',metrics.mean_absolute_error(y_test,y_pred))\n",
    "print('MSE:',metrics.mean_squared_error(y_test,y_pred))\n",
    "print('RMSE:',np.sqrt(metrics.mean_squared_error(y_test,y_pred)))"
   ]
  },
  {
   "cell_type": "code",
   "execution_count": null,
   "metadata": {},
   "outputs": [],
   "source": []
  }
 ],
 "metadata": {
  "kernelspec": {
   "display_name": "Python 3",
   "language": "python",
   "name": "python3"
  },
  "language_info": {
   "codemirror_mode": {
    "name": "ipython",
    "version": 3
   },
   "file_extension": ".py",
   "mimetype": "text/x-python",
   "name": "python",
   "nbconvert_exporter": "python",
   "pygments_lexer": "ipython3",
   "version": "3.7.1"
  }
 },
 "nbformat": 4,
 "nbformat_minor": 2
}
